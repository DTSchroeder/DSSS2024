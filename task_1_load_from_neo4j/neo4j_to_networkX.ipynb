{
 "cells": [
  {
   "cell_type": "markdown",
   "metadata": {},
   "source": [
    "# Connect Neo4J to NetworkX\n",
    "The following gives you a connection to your neo4J DB including the \"Network of Thrones\" data set. Please make sure everything is set up as described in the main README."
   ]
  },
  {
   "cell_type": "code",
   "execution_count": 1,
   "metadata": {},
   "outputs": [],
   "source": [
    "from neo4j import GraphDatabase\n",
    "import networkx as nx\n",
    "\n",
    "# Replace with your credentials. Default credentials from main README.\n",
    "uri = \"bolt://localhost:7687\"\n",
    "username = \"neo4j\"\n",
    "password = \"your_password\"\n",
    "\n",
    "with GraphDatabase.driver(uri, auth=(username, password)) as driver:\n",
    "    driver.verify_connectivity()\n",
    "\n",
    "def run_query(query, parameters=None):\n",
    "        \"\"\" Run a Cypher query with optional parameters. \"\"\"\n",
    "        with driver.session() as session:\n",
    "            result = session.run(query, parameters)\n",
    "            return result.data()  # Return query results as a list of dictionaries"
   ]
  },
  {
   "cell_type": "markdown",
   "metadata": {},
   "source": [
    "This gives you the overall count of movie characters included in all of the 5 books."
   ]
  },
  {
   "cell_type": "code",
   "execution_count": 2,
   "metadata": {},
   "outputs": [
    {
     "name": "stdout",
     "output_type": "stream",
     "text": [
      "There are 796 characters in the database.\n"
     ]
    },
    {
     "name": "stderr",
     "output_type": "stream",
     "text": [
      "/var/folders/w4/ql5lg1bd7rb18j2pdg75j9v40000gn/T/ipykernel_27608/1238049016.py:14: DeprecationWarning: Using a driver after it has been closed is deprecated. Future versions of the driver will raise an error.\n",
      "  with driver.session() as session:\n"
     ]
    }
   ],
   "source": [
    "query = \"MATCH (c:Character) RETURN count(c) AS count\"\n",
    "result = run_query(query)\n",
    "count = result[0][\"count\"] if result else 0\n",
    "print(f\"There are {count} characters in the database.\")"
   ]
  },
  {
   "cell_type": "markdown",
   "metadata": {},
   "source": [
    "## Task 1.1: Count Interactions\n",
    "\n",
    "Could you create a query that counts the total number of interactions and stores it in the variable interaction_count"
   ]
  },
  {
   "cell_type": "code",
   "execution_count": null,
   "metadata": {},
   "outputs": [],
   "source": [
    "query = #TODO\n",
    "result = run_query(query)\n",
    "interaction_count = result[0][\"interaction_count\"] if result else 0\n",
    "print(f\"There are {interaction_count} interactions in the database.\")"
   ]
  },
  {
   "cell_type": "markdown",
   "metadata": {},
   "source": [
    "## Task 1.2: Count Interactions by Book\n",
    "\n",
    "Can you come up with a query that counts the interactions ordered by book?"
   ]
  },
  {
   "cell_type": "code",
   "execution_count": null,
   "metadata": {},
   "outputs": [],
   "source": [
    "query = #TODO\n",
    "result = run_query(query)\n",
    "\n",
    "for book in result:\n",
    "    print(f\"Book {book['book']} has {book['interaction_count']} interactions.\")"
   ]
  },
  {
   "cell_type": "markdown",
   "metadata": {},
   "source": [
    "## Task 1.3: Load the entire Graph to NetworkX\n",
    "\n",
    "Please complete the missing code in the following cell to load the entire graph into a networkX graph."
   ]
  },
  {
   "cell_type": "code",
   "execution_count": null,
   "metadata": {},
   "outputs": [],
   "source": [
    "query = \"\"\"\n",
    "        MATCH (n)\n",
    "        WITH collect(n) AS nodes\n",
    "        MATCH ()-[r]->()\n",
    "        RETURN nodes, collect(r) AS relationships\n",
    "        \"\"\"\n",
    "\n",
    "# Run the query    \n",
    "result = run_query(query)\n",
    "\n",
    "# Create a new NetworkX graph\n",
    "graph = #TODO\n",
    "\n",
    "# Add nodes to the graph\n",
    "for record in result:\n",
    "   for node in record[\"nodes\"]:\n",
    "      #TODO\n",
    "\n",
    "   # Add relationships to the graph\n",
    "   for rel in record[\"relationships\"]:  \n",
    "      #TODO\n",
    "      \n",
    "# Print the graph's nodes and edges\n",
    "num_edges = #TODO\n",
    "num_nodes = #TODO\n",
    "print(f\"The graph has {num_nodes} nodes and {num_edges} edges\")"
   ]
  }
 ],
 "metadata": {
  "kernelspec": {
   "display_name": "myenv",
   "language": "python",
   "name": "python3"
  },
  "language_info": {
   "codemirror_mode": {
    "name": "ipython",
    "version": 3
   },
   "file_extension": ".py",
   "mimetype": "text/x-python",
   "name": "python",
   "nbconvert_exporter": "python",
   "pygments_lexer": "ipython3",
   "version": "3.9.17"
  }
 },
 "nbformat": 4,
 "nbformat_minor": 2
}
