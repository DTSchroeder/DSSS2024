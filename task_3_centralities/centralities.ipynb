{
 "cells": [
  {
   "cell_type": "markdown",
   "metadata": {},
   "source": [
    "# Centralities\n",
    "We work on the subgraph of the largest community. The corresponding function that helps you to obtain this graph is part of our utility package and called `subgraph_largest_community()`. NetworkX's centralities are documented [here](https://networkx.org/documentation/stable/reference/algorithms/centrality.html). In the box below, you see the imports, including our Neo4j utility, which is a singleton that includes the necessary functions we implemented in the previous tutorials.\n"
   ]
  },
  {
   "cell_type": "code",
   "execution_count": null,
   "metadata": {},
   "outputs": [],
   "source": [
    "import sys\n",
    "import os\n",
    "import networkx as nx\n",
    "import matplotlib.pyplot as plt\n",
    "import matplotlib.colors as mcolors\n",
    "\n",
    "# Define the directory containing neo4j_utils.py (assuming test.ipynb is in task_1 folder)\n",
    "module_path = os.path.abspath(os.path.join(os.path.dirname(\"__file__\"), '..', 'utils'))\n",
    "\n",
    "# Check if the path is already in sys.path and add it if not\n",
    "if module_path not in sys.path:\n",
    "    print(f\"Adding {module_path} to sys.path\")\n",
    "    sys.path.append(module_path)\n",
    "\n",
    "import neo4j_utils as neo4j\n",
    "\n",
    "# Get the instance of the Neo4jConnection\n",
    "db = neo4j.Neo4jConnection.get_instance()\n",
    "\n",
    "# Verify the connection\n",
    "if db.verify_connection():\n",
    "    print(\"Connection to Neo4j is successful!\")\n",
    "else:\n",
    "    print(\"Connection to Neo4j failed!\")\n",
    "\n",
    "# close the connection\n",
    "db.close()"
   ]
  },
  {
   "cell_type": "markdown",
   "metadata": {},
   "source": [
    "## Degree Centrality\n",
    "Below, you will find an example using NetworkX to calculate Degree Centrality.\n"
   ]
  },
  {
   "cell_type": "code",
   "execution_count": null,
   "metadata": {},
   "outputs": [],
   "source": [
    "# Get the instance of the Neo4jConnection\n",
    "db = neo4j.Neo4jConnection.get_instance()\n",
    "\n",
    "# Load subgraph of largest community\n",
    "subgraph = db.subgraph_largest_community()\n",
    "\n",
    "# Calculate betweenness centrality for all nodes using NetworkX function\n",
    "betweenness_centrality = nx.degree_centrality(subgraph)\n",
    "\n",
    "# Print the betweenness centrality values\n",
    "print(\"Degree centrality for nodes in the largest community subgraph:\")\n",
    "for node, centrality in betweenness_centrality.items():\n",
    "    print(f\"Node: {node}, Betweenness Centrality: {centrality}\")\n",
    "\n",
    "# Close the Neo4j connection when done\n",
    "db.close()"
   ]
  },
  {
   "cell_type": "markdown",
   "metadata": {},
   "source": [
    "## Task 3.1: Betweenness Centrality\n",
    "Please follow the example provided above. This time, we will compute the betweenness centrality.\n"
   ]
  },
  {
   "cell_type": "code",
   "execution_count": null,
   "metadata": {},
   "outputs": [],
   "source": [
    "# Get the instance of the Neo4jConnection\n",
    "db = neo4j.Neo4jConnection.get_instance()\n",
    "\n",
    "# Load subgraph of largest community\n",
    "subgraph = db.subgraph_largest_community()\n",
    "\n",
    "# TODO\n",
    "\n",
    "# close the connection\n",
    "db.close()"
   ]
  },
  {
   "cell_type": "markdown",
   "metadata": {},
   "source": [
    "## Task 3.2: Closeness Centrality\n",
    "Please follow the example provided above to compute the closeness centrality.\n"
   ]
  },
  {
   "cell_type": "code",
   "execution_count": null,
   "metadata": {},
   "outputs": [],
   "source": [
    "# Get the instance of the Neo4jConnection\n",
    "db = neo4j.Neo4jConnection.get_instance()\n",
    "\n",
    "# Load subgraph of largest community\n",
    "subgraph = db.subgraph_largest_community()\n",
    "\n",
    "# TODO\n",
    "\n",
    "# close the connection\n",
    "db.close()"
   ]
  },
  {
   "cell_type": "markdown",
   "metadata": {},
   "source": [
    "## Example Visualization: Degree Centrality in the Largest Community\n"
   ]
  },
  {
   "cell_type": "code",
   "execution_count": null,
   "metadata": {},
   "outputs": [],
   "source": [
    "# Get the instance of the Neo4jConnection\n",
    "db = neo4j.Neo4jConnection.get_instance()\n",
    "\n",
    "# Load data into NetworkX\n",
    "graph = db.load_data_into_networkx()\n",
    "\n",
    "# Load subgraph of largest community\n",
    "largest_community = db.subgraph_largest_community()\n",
    "\n",
    "# Calculate betweenness centrality for all nodes in the largest community using NetworkX function\n",
    "betweenness_centrality = nx.degree_centrality(largest_community)\n",
    "\n",
    "# Draw the largest community subgraph with node colors based on betweenness centrality\n",
    "pos = nx.spring_layout(largest_community, k=0.5, iterations=1000)\n",
    "plt.figure(figsize=(10, 8))\n",
    "\n",
    "# Draw nodes with colors based on betweenness centrality\n",
    "node_size = 200\n",
    "node_color = list(betweenness_centrality.values())\n",
    "nodes = nx.draw_networkx_nodes(largest_community, pos, node_size=node_size, cmap=plt.cm.Blues,\n",
    "                               node_color=node_color, edgecolors='k', linewidths=0.5)\n",
    "nx.draw_networkx_edges(largest_community, pos, alpha=0.5, width=0.5)\n",
    "\n",
    "plt.colorbar(nodes, label='Betweenness Centrality')  # Add colorbar for node colors\n",
    "plt.title('Largest Community Subgraph with Betweenness Centrality')\n",
    "plt.axis('off')\n",
    "plt.show()\n",
    "\n",
    "# Close the Neo4j connection when done\n",
    "db.close()"
   ]
  }
 ],
 "metadata": {
  "kernelspec": {
   "display_name": "myenv",
   "language": "python",
   "name": "python3"
  },
  "language_info": {
   "codemirror_mode": {
    "name": "ipython",
    "version": 3
   },
   "file_extension": ".py",
   "mimetype": "text/x-python",
   "name": "python",
   "nbconvert_exporter": "python",
   "pygments_lexer": "ipython3",
   "version": "3.9.17"
  }
 },
 "nbformat": 4,
 "nbformat_minor": 2
}
