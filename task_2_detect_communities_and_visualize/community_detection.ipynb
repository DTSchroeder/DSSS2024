{
 "cells": [
  {
   "cell_type": "markdown",
   "metadata": {},
   "source": [
    "# Community Detection"
   ]
  },
  {
   "cell_type": "code",
   "execution_count": 1,
   "metadata": {},
   "outputs": [
    {
     "name": "stdout",
     "output_type": "stream",
     "text": [
      "Adding /Users/daniels/Projects/DSSS2024/utils to sys.path\n",
      "Connection to Neo4j is successful!\n"
     ]
    }
   ],
   "source": [
    "import sys\n",
    "import os\n",
    "import networkx as nx\n",
    "import matplotlib.pyplot as plt\n",
    "import matplotlib.colors as mcolors\n",
    "\n",
    "# Define the directory containing neo4j_utils.py (assuming test.ipynb is in task_1 folder)\n",
    "module_path = os.path.abspath(os.path.join(os.path.dirname(\"__file__\"), '..', 'utils'))\n",
    "\n",
    "# Check if the path is already in sys.path and add it if not\n",
    "if module_path not in sys.path:\n",
    "    print(f\"Adding {module_path} to sys.path\")\n",
    "    sys.path.append(module_path)\n",
    "\n",
    "import neo4j_utils as neo4j\n",
    "\n",
    "# Get the instance of the Neo4jConnection\n",
    "db = neo4j.Neo4jConnection.get_instance()\n",
    "\n",
    "# Verify the connection\n",
    "if db.verify_connection():\n",
    "    print(\"Connection to Neo4j is successful!\")\n",
    "else:\n",
    "    print(\"Connection to Neo4j failed!\")\n",
    "\n",
    "# close the connection\n",
    "db.close()"
   ]
  },
  {
   "cell_type": "markdown",
   "metadata": {},
   "source": [
    "## Find communities using Greedy Modularity Maximization."
   ]
  },
  {
   "cell_type": "code",
   "execution_count": 4,
   "metadata": {},
   "outputs": [
    {
     "name": "stdout",
     "output_type": "stream",
     "text": [
      "Number of communities: 10\n",
      "Community 1: 199 nodes\n",
      "Community 2: 182 nodes\n",
      "Community 3: 165 nodes\n",
      "Community 4: 165 nodes\n",
      "Community 5: 41 nodes\n",
      "Community 6: 20 nodes\n",
      "Community 7: 11 nodes\n",
      "Community 8: 5 nodes\n",
      "Community 9: 5 nodes\n",
      "Community 10: 3 nodes\n",
      "None\n"
     ]
    }
   ],
   "source": [
    "# Get the instance of the Neo4jConnection\n",
    "db = neo4j.Neo4jConnection.get_instance()\n",
    "\n",
    "# Load data into NetworkX\n",
    "graph = db.load_data_into_networkx()\n",
    "\n",
    "# Find communities in G using greedy modularity maximization.\n",
    "communities = nx.algorithms.community.greedy_modularity_communities(graph)\n",
    "    \n",
    "# Print the communities\n",
    "print(db.print_community_sizes(communities))"
   ]
  },
  {
   "cell_type": "markdown",
   "metadata": {},
   "source": [
    "## Find communities using Label Propagation."
   ]
  },
  {
   "cell_type": "code",
   "execution_count": 6,
   "metadata": {},
   "outputs": [
    {
     "name": "stdout",
     "output_type": "stream",
     "text": [
      "Number of communities: 51\n",
      "Community 1: 454 nodes\n",
      "Community 2: 99 nodes\n",
      "Community 8: 35 nodes\n",
      "Community 7: 26 nodes\n",
      "Community 3: 22 nodes\n",
      "Community 28: 13 nodes\n",
      "Community 29: 11 nodes\n",
      "Community 43: 11 nodes\n",
      "Community 26: 9 nodes\n",
      "Community 25: 7 nodes\n",
      "Community 42: 5 nodes\n",
      "Community 49: 5 nodes\n",
      "Community 4: 4 nodes\n",
      "Community 16: 4 nodes\n",
      "Community 24: 4 nodes\n",
      "Community 44: 4 nodes\n",
      "Community 48: 4 nodes\n",
      "Community 5: 3 nodes\n",
      "Community 6: 3 nodes\n",
      "Community 10: 3 nodes\n",
      "Community 20: 3 nodes\n",
      "Community 21: 3 nodes\n",
      "Community 30: 3 nodes\n",
      "Community 33: 3 nodes\n",
      "Community 34: 3 nodes\n",
      "Community 36: 3 nodes\n",
      "Community 39: 3 nodes\n",
      "Community 46: 3 nodes\n",
      "Community 9: 2 nodes\n",
      "Community 11: 2 nodes\n",
      "Community 12: 2 nodes\n",
      "Community 13: 2 nodes\n",
      "Community 14: 2 nodes\n",
      "Community 15: 2 nodes\n",
      "Community 17: 2 nodes\n",
      "Community 18: 2 nodes\n",
      "Community 19: 2 nodes\n",
      "Community 22: 2 nodes\n",
      "Community 23: 2 nodes\n",
      "Community 27: 2 nodes\n",
      "Community 31: 2 nodes\n",
      "Community 32: 2 nodes\n",
      "Community 35: 2 nodes\n",
      "Community 37: 2 nodes\n",
      "Community 38: 2 nodes\n",
      "Community 40: 2 nodes\n",
      "Community 41: 2 nodes\n",
      "Community 45: 2 nodes\n",
      "Community 47: 2 nodes\n",
      "Community 50: 2 nodes\n",
      "Community 51: 2 nodes\n",
      "None\n"
     ]
    }
   ],
   "source": [
    "# Get the instance of the Neo4jConnection\n",
    "db = neo4j.Neo4jConnection.get_instance()\n",
    "\n",
    "# Load data into NetworkX\n",
    "graph = db.load_data_into_networkx()\n",
    "\n",
    "# Find communities in G using greedy modularity maximization.\n",
    "communities = nx.algorithms.community.label_propagation_communities(graph)\n",
    "\n",
    "# Print the communities\n",
    "print(db.print_community_sizes(communities))"
   ]
  },
  {
   "cell_type": "markdown",
   "metadata": {},
   "source": [
    "## Find communities using Louvain Community Detection."
   ]
  },
  {
   "cell_type": "code",
   "execution_count": 7,
   "metadata": {},
   "outputs": [
    {
     "name": "stdout",
     "output_type": "stream",
     "text": [
      "Number of communities: 12\n",
      "Community 2: 166 nodes\n",
      "Community 7: 110 nodes\n",
      "Community 9: 81 nodes\n",
      "Community 10: 81 nodes\n",
      "Community 4: 80 nodes\n",
      "Community 1: 71 nodes\n",
      "Community 3: 65 nodes\n",
      "Community 6: 60 nodes\n",
      "Community 8: 44 nodes\n",
      "Community 11: 24 nodes\n",
      "Community 12: 11 nodes\n",
      "Community 5: 3 nodes\n",
      "None\n"
     ]
    }
   ],
   "source": [
    "# Get the instance of the Neo4jConnection\n",
    "db = neo4j.Neo4jConnection.get_instance()\n",
    "\n",
    "# Load data into NetworkX\n",
    "graph = db.load_data_into_networkx()\n",
    "\n",
    "# Find communities in G using greedy modularity maximization.\n",
    "communities = nx.algorithms.community.louvain_communities(graph)\n",
    "\n",
    "# Print the communities\n",
    "print(db.print_community_sizes(communities))"
   ]
  }
 ],
 "metadata": {
  "kernelspec": {
   "display_name": "myenv",
   "language": "python",
   "name": "python3"
  },
  "language_info": {
   "codemirror_mode": {
    "name": "ipython",
    "version": 3
   },
   "file_extension": ".py",
   "mimetype": "text/x-python",
   "name": "python",
   "nbconvert_exporter": "python",
   "pygments_lexer": "ipython3",
   "version": "3.9.17"
  }
 },
 "nbformat": 4,
 "nbformat_minor": 2
}
