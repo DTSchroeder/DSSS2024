{
 "cells": [
  {
   "cell_type": "markdown",
   "metadata": {},
   "source": [
    "# Community Detection\n",
    "Here, we learn how to use NetworkX community detection, which is documented [here](https://networkx.org/documentation/stable/reference/algorithms/community.html). In the box below, you see the imports, including our Neo4j utility, which is a singleton that includes the necessary functions we implemented in the previous tutorials.\n"
   ]
  },
  {
   "cell_type": "code",
   "execution_count": 1,
   "metadata": {},
   "outputs": [
    {
     "name": "stdout",
     "output_type": "stream",
     "text": [
      "Adding /Users/ramadanomar/projects/dsis-2024/Graph_Data_Analytics/utils to sys.path\n",
      "Connection to Neo4j is successful!\n"
     ]
    }
   ],
   "source": [
    "import sys\n",
    "import os\n",
    "import networkx as nx\n",
    "import matplotlib.pyplot as plt\n",
    "import matplotlib.colors as mcolors\n",
    "\n",
    "# Define the directory containing neo4j_utils.py (assuming test.ipynb is in task_1 folder)\n",
    "module_path = os.path.abspath(os.path.join(os.path.dirname(\"__file__\"), '..', 'utils'))\n",
    "\n",
    "# Check if the path is already in sys.path and add it if not\n",
    "if module_path not in sys.path:\n",
    "    print(f\"Adding {module_path} to sys.path\")\n",
    "    sys.path.append(module_path)\n",
    "\n",
    "import neo4j_utils as neo4j\n",
    "\n",
    "# Get the instance of the Neo4jConnection\n",
    "db = neo4j.Neo4jConnection.get_instance()\n",
    "\n",
    "# Verify the connection\n",
    "if db.verify_connection():\n",
    "    print(\"Connection to Neo4j is successful!\")\n",
    "else:\n",
    "    print(\"Connection to Neo4j failed!\")\n",
    "\n",
    "# close the connection\n",
    "db.close()"
   ]
  },
  {
   "cell_type": "markdown",
   "metadata": {},
   "source": [
    "## Find communities using Greedy Modularity Maximization."
   ]
  },
  {
   "cell_type": "code",
   "execution_count": 2,
   "metadata": {},
   "outputs": [
    {
     "name": "stdout",
     "output_type": "stream",
     "text": [
      "Number of communities: 10\n",
      "Community 1: 199 nodes\n",
      "Community 2: 182 nodes\n",
      "Community 3: 165 nodes\n",
      "Community 4: 165 nodes\n",
      "Community 5: 41 nodes\n",
      "Community 6: 20 nodes\n",
      "Community 7: 11 nodes\n",
      "Community 8: 5 nodes\n",
      "Community 9: 5 nodes\n",
      "Community 10: 3 nodes\n",
      "None\n"
     ]
    }
   ],
   "source": [
    "# Get the instance of the Neo4jConnection\n",
    "db = neo4j.Neo4jConnection.get_instance()\n",
    "\n",
    "# Load data into NetworkX\n",
    "graph = db.load_data_into_networkx()\n",
    "\n",
    "# Find communities in G using greedy modularity maximization.\n",
    "communities = nx.algorithms.community.greedy_modularity_communities(graph)\n",
    "    \n",
    "# Print the communities\n",
    "print(db.print_community_sizes(communities))"
   ]
  },
  {
   "cell_type": "markdown",
   "metadata": {},
   "source": [
    "## Task 2.1: Find Communities Using Label Propagation\n",
    "In this task, we will use NetworkX's label propagation algorithm to detect communities in the graph. Replace the `TODO` with your implementation.\n"
   ]
  },
  {
   "cell_type": "code",
   "execution_count": 6,
   "metadata": {},
   "outputs": [
    {
     "name": "stdout",
     "output_type": "stream",
     "text": [
      "Number of communities: 10\n",
      "Community 1: 199 nodes\n",
      "Community 2: 182 nodes\n",
      "Community 3: 165 nodes\n",
      "Community 4: 165 nodes\n",
      "Community 5: 41 nodes\n",
      "Community 6: 20 nodes\n",
      "Community 7: 11 nodes\n",
      "Community 8: 5 nodes\n",
      "Community 9: 5 nodes\n",
      "Community 10: 3 nodes\n",
      "None\n"
     ]
    }
   ],
   "source": [
    "# Get the instance of the Neo4jConnection\n",
    "db = neo4j.Neo4jConnection.get_instance()\n",
    "\n",
    "# Load data into NetworkX\n",
    "graph = db.load_data_into_networkx()\n",
    "\n",
    "# Find communities in G using greedy modularity maximization.\n",
    "communities = nx.algorithms.community.greedy_modularity_communities(graph)\n",
    "\n",
    "# Print the communities\n",
    "print(db.print_community_sizes(communities))"
   ]
  },
  {
   "cell_type": "markdown",
   "metadata": {},
   "source": [
    "## Task 2.2: Find communities using Louvain Community Detection.\n",
    "In this task, we will use NetworkX's label Louvain algorithm to detect communities in the graph. Replace the `TODO` with your implementation.\n"
   ]
  },
  {
   "cell_type": "code",
   "execution_count": 7,
   "metadata": {},
   "outputs": [
    {
     "name": "stdout",
     "output_type": "stream",
     "text": [
      "Number of communities: 10\n",
      "Community 1: 199 nodes\n",
      "Community 2: 182 nodes\n",
      "Community 3: 165 nodes\n",
      "Community 4: 165 nodes\n",
      "Community 5: 41 nodes\n",
      "Community 6: 20 nodes\n",
      "Community 7: 11 nodes\n",
      "Community 8: 5 nodes\n",
      "Community 9: 5 nodes\n",
      "Community 10: 3 nodes\n",
      "None\n"
     ]
    }
   ],
   "source": [
    "# Get the instance of the Neo4jConnection\n",
    "db = neo4j.Neo4jConnection.get_instance()\n",
    "\n",
    "# Load data into NetworkX\n",
    "graph = db.load_data_into_networkx()\n",
    "\n",
    "# Find communities in G using greedy modularity maximization.\n",
    "communities = nx.algorithms.community.greedy_modularity_communities(graph)\n",
    "\n",
    "# Print the communities\n",
    "print(db.print_community_sizes(communities))"
   ]
  },
  {
   "cell_type": "markdown",
   "metadata": {},
   "source": [
    "## Extract a Community as a Subgraph"
   ]
  },
  {
   "cell_type": "code",
   "execution_count": 8,
   "metadata": {},
   "outputs": [
    {
     "name": "stdout",
     "output_type": "stream",
     "text": [
      "Number of communities: 13\n",
      "Community 3: 166 nodes\n",
      "Community 5: 107 nodes\n",
      "Community 13: 85 nodes\n",
      "Community 2: 80 nodes\n",
      "Community 4: 72 nodes\n",
      "Community 1: 71 nodes\n",
      "Community 6: 71 nodes\n",
      "Community 8: 60 nodes\n",
      "Community 10: 44 nodes\n",
      "Community 12: 24 nodes\n",
      "Community 7: 11 nodes\n",
      "Community 9: 3 nodes\n",
      "Community 11: 2 nodes\n",
      "Number of nodes in the largest community: 166\n",
      "Number of edges in the largest community: 496\n"
     ]
    }
   ],
   "source": [
    "# Get the instance of the Neo4jConnection\n",
    "db = neo4j.Neo4jConnection.get_instance()\n",
    "\n",
    "# Load data into NetworkX\n",
    "graph = db.load_data_into_networkx()\n",
    "\n",
    "# Find communities in G using greedy modularity maximization.\n",
    "communities = nx.algorithms.community.louvain_communities(graph)\n",
    "\n",
    "# Print the communities\n",
    "db.print_community_sizes(communities)\n",
    "\n",
    "# Identify the largest community\n",
    "largest_community = max(communities, key=len)\n",
    "\n",
    "# Extract the subgraph of the largest community\n",
    "largest_subgraph = graph.subgraph(largest_community).copy()\n",
    "\n",
    "# Print the number of nodes and edges in the largest subgraph\n",
    "print(f\"Number of nodes in the largest community: {largest_subgraph.number_of_nodes()}\")\n",
    "print(f\"Number of edges in the largest community: {largest_subgraph.number_of_edges()}\")\n",
    "\n",
    "# Close the Neo4j connection when done\n",
    "db.close()"
   ]
  }
 ],
 "metadata": {
  "kernelspec": {
   "display_name": "myenv",
   "language": "python",
   "name": "python3"
  },
  "language_info": {
   "codemirror_mode": {
    "name": "ipython",
    "version": 3
   },
   "file_extension": ".py",
   "mimetype": "text/x-python",
   "name": "python",
   "nbconvert_exporter": "python",
   "pygments_lexer": "ipython3",
   "version": "3.12.3"
  }
 },
 "nbformat": 4,
 "nbformat_minor": 2
}
