{
 "cells": [
  {
   "cell_type": "markdown",
   "metadata": {},
   "source": [
    "# Community Visualization"
   ]
  },
  {
   "cell_type": "code",
   "execution_count": 1,
   "metadata": {},
   "outputs": [
    {
     "name": "stdout",
     "output_type": "stream",
     "text": [
      "Adding /Users/daniels/Projects/DSSS2024/utils to sys.path\n",
      "Connection to Neo4j is successful!\n"
     ]
    }
   ],
   "source": [
    "import sys\n",
    "import os\n",
    "import networkx as nx\n",
    "import matplotlib.pyplot as plt\n",
    "import matplotlib.colors as mcolors\n",
    "\n",
    "# Define the directory containing neo4j_utils.py (assuming test.ipynb is in task_1 folder)\n",
    "module_path = os.path.abspath(os.path.join(os.path.dirname(\"__file__\"), '..', 'utils'))\n",
    "\n",
    "# Check if the path is already in sys.path and add it if not\n",
    "if module_path not in sys.path:\n",
    "    print(f\"Adding {module_path} to sys.path\")\n",
    "    sys.path.append(module_path)\n",
    "\n",
    "import neo4j_utils as neo4j\n",
    "\n",
    "# Get the instance of the Neo4jConnection\n",
    "db = neo4j.Neo4jConnection.get_instance()\n",
    "\n",
    "# Verify the connection\n",
    "if db.verify_connection():\n",
    "    print(\"Connection to Neo4j is successful!\")\n",
    "else:\n",
    "    print(\"Connection to Neo4j failed!\")\n",
    "\n",
    "# close the connection\n",
    "db.close()"
   ]
  },
  {
   "cell_type": "markdown",
   "metadata": {},
   "source": []
  },
  {
   "cell_type": "code",
   "execution_count": 2,
   "metadata": {},
   "outputs": [
    {
     "ename": "AttributeError",
     "evalue": "'list' object has no attribute 'values'",
     "output_type": "error",
     "traceback": [
      "\u001b[0;31m---------------------------------------------------------------------------\u001b[0m",
      "\u001b[0;31mAttributeError\u001b[0m                            Traceback (most recent call last)",
      "Cell \u001b[0;32mIn[2], line 23\u001b[0m\n\u001b[1;32m     21\u001b[0m node_size \u001b[38;5;241m=\u001b[39m \u001b[38;5;241m10\u001b[39m\n\u001b[1;32m     22\u001b[0m width \u001b[38;5;241m=\u001b[39m \u001b[38;5;241m0.5\u001b[39m\n\u001b[0;32m---> 23\u001b[0m nx\u001b[38;5;241m.\u001b[39mdraw_networkx_nodes(graph, pos, node_color\u001b[38;5;241m=\u001b[39m\u001b[38;5;28mlist\u001b[39m(\u001b[43mpartition\u001b[49m\u001b[38;5;241;43m.\u001b[39;49m\u001b[43mvalues\u001b[49m()), node_size\u001b[38;5;241m=\u001b[39mnode_size, cmap\u001b[38;5;241m=\u001b[39mplt\u001b[38;5;241m.\u001b[39mcm\u001b[38;5;241m.\u001b[39mBlues)\n\u001b[1;32m     24\u001b[0m nx\u001b[38;5;241m.\u001b[39mdraw_networkx_edges(graph, pos, alpha\u001b[38;5;241m=\u001b[39m\u001b[38;5;241m0.5\u001b[39m, width\u001b[38;5;241m=\u001b[39mwidth)\n\u001b[1;32m     26\u001b[0m plt\u001b[38;5;241m.\u001b[39mtitle(\u001b[38;5;124m'\u001b[39m\u001b[38;5;124mNeo4j Graph with Community Detection (Louvain Method)\u001b[39m\u001b[38;5;124m'\u001b[39m)\n",
      "\u001b[0;31mAttributeError\u001b[0m: 'list' object has no attribute 'values'"
     ]
    },
    {
     "data": {
      "text/plain": [
       "<Figure size 1000x800 with 0 Axes>"
      ]
     },
     "metadata": {},
     "output_type": "display_data"
    }
   ],
   "source": [
    "# Get the instance of the Neo4jConnection\n",
    "db = neo4j.Neo4jConnection.get_instance()\n",
    "\n",
    "# Load data into NetworkX\n",
    "graph = db.load_data_into_networkx()\n",
    "\n",
    "# Convert the graph to undirected (required for Louvain method)\n",
    "graph_undirected = graph.to_undirected()\n",
    "\n",
    "# Perform community detection using Louvain method\n",
    "partition = community.best_partition(graph_undirected)\n",
    "\n",
    "# Draw the graph with community coloring\n",
    "pos = nx.spring_layout(graph, k=0.5, iterations=1000)\n",
    "\n",
    "# Create a larger figure\n",
    "plt.figure(figsize=(10, 8))\n",
    "\n",
    "# Draw nodes and edges\n",
    "node_size = 10\n",
    "width = 0.5\n",
    "nx.draw_networkx_nodes(graph, pos, node_color=list(partition.values()), node_size=node_size, cmap=plt.cm.Blues)\n",
    "nx.draw_networkx_edges(graph, pos, alpha=0.5, width=width)\n",
    "\n",
    "plt.title('Neo4j Graph with Community Detection (Louvain Method)')\n",
    "plt.axis('off')\n",
    "plt.show()\n",
    "\n",
    "# Close the Neo4j connection when done\n",
    "db.close()"
   ]
  }
 ],
 "metadata": {
  "kernelspec": {
   "display_name": "myenv",
   "language": "python",
   "name": "python3"
  },
  "language_info": {
   "codemirror_mode": {
    "name": "ipython",
    "version": 3
   },
   "file_extension": ".py",
   "mimetype": "text/x-python",
   "name": "python",
   "nbconvert_exporter": "python",
   "pygments_lexer": "ipython3",
   "version": "3.9.17"
  }
 },
 "nbformat": 4,
 "nbformat_minor": 2
}
