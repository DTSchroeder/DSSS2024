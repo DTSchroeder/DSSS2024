{
 "cells": [
  {
   "cell_type": "markdown",
   "metadata": {},
   "source": [
    "# Community Visualization\n",
    "Here, we learn how to visualize the output of NetworkX's community detection, which is documented [here](https://networkx.org/documentation/stable/reference/algorithms/community.html). In the box below, you see the imports, including our Neo4j utility, which is a singleton that includes the necessary functions we implemented in the previous tutorials.\n"
   ]
  },
  {
   "cell_type": "code",
   "execution_count": null,
   "metadata": {},
   "outputs": [],
   "source": [
    "import sys\n",
    "import os\n",
    "import networkx as nx\n",
    "import matplotlib.pyplot as plt\n",
    "import matplotlib.colors as mcolors\n",
    "\n",
    "# Define the directory containing neo4j_utils.py (assuming test.ipynb is in task_1 folder)\n",
    "module_path = os.path.abspath(os.path.join(os.path.dirname(\"__file__\"), '..', 'utils'))\n",
    "\n",
    "# Check if the path is already in sys.path and add it if not\n",
    "if module_path not in sys.path:\n",
    "    print(f\"Adding {module_path} to sys.path\")\n",
    "    sys.path.append(module_path)\n",
    "\n",
    "import neo4j_utils as neo4j\n",
    "\n",
    "# Get the instance of the Neo4jConnection\n",
    "db = neo4j.Neo4jConnection.get_instance()\n",
    "\n",
    "# Verify the connection\n",
    "if db.verify_connection():\n",
    "    print(\"Connection to Neo4j is successful!\")\n",
    "else:\n",
    "    print(\"Connection to Neo4j failed!\")\n",
    "\n",
    "# close the connection\n",
    "db.close()"
   ]
  },
  {
   "cell_type": "markdown",
   "metadata": {},
   "source": [
    "## Simple Visualization\n",
    "This is the most straightforward visualization we could come up with. What do you notice? How can we improve it?"
   ]
  },
  {
   "cell_type": "code",
   "execution_count": null,
   "metadata": {},
   "outputs": [],
   "source": [
    "# Get the instance of the Neo4jConnection\n",
    "db = neo4j.Neo4jConnection.get_instance()\n",
    "\n",
    "# Load data into NetworkX\n",
    "graph = db.load_data_into_networkx()\n",
    "\n",
    "# Convert the graph to undirected (required for Louvain method)\n",
    "graph_undirected = graph.to_undirected()\n",
    "\n",
    "# Perform community detection using NetworkX Louvain method\n",
    "communities = nx.algorithms.community.louvain_communities(graph_undirected)\n",
    "\n",
    "# Create a partition dictionary to map nodes to community indices\n",
    "partition = {}\n",
    "for community_index, community in enumerate(communities):\n",
    "    for node in community:\n",
    "        partition[node] = community_index\n",
    "\n",
    "# Draw the graph with community coloring\n",
    "pos = nx.spring_layout(graph, k=0.5, iterations=600)\n",
    "\n",
    "# Create a larger figure\n",
    "plt.figure(figsize=(10, 8))\n",
    "\n",
    "# Draw nodes and edges\n",
    "node_size = 10\n",
    "width = 0.5\n",
    "nx.draw_networkx_nodes(graph, pos, node_color=list(partition.values()), node_size=node_size, cmap=plt.cm.Blues)\n",
    "nx.draw_networkx_edges(graph, pos, alpha=0.5, width=width)\n",
    "\n",
    "plt.title('Neo4j Graph with Community Detection (Louvain Method)')\n",
    "plt.axis('off')\n",
    "plt.show()\n",
    "\n",
    "# Close the Neo4j connection when done\n",
    "db.close()\n"
   ]
  },
  {
   "cell_type": "markdown",
   "metadata": {},
   "source": [
    "## Improved Visualization\n",
    "Why does this look better? What did we improve upon?\n"
   ]
  },
  {
   "cell_type": "code",
   "execution_count": null,
   "metadata": {},
   "outputs": [],
   "source": [
    "# Get the instance of the Neo4jConnection\n",
    "db = neo4j.Neo4jConnection.get_instance()\n",
    "\n",
    "# Load data into NetworkX\n",
    "graph = db.load_data_into_networkx()\n",
    "\n",
    "# Convert the graph to undirected (required for Louvain method)\n",
    "graph_undirected = graph.to_undirected()\n",
    "\n",
    "# Perform community detection using NetworkX Louvain method\n",
    "communities = nx.algorithms.community.louvain_communities(graph_undirected)\n",
    "\n",
    "# Create a partition dictionary to map nodes to community indices\n",
    "partition = {}\n",
    "for community_index, community in enumerate(communities):\n",
    "    for node in community:\n",
    "        partition[node] = community_index\n",
    "\n",
    "# Get unique community labels\n",
    "unique_communities = set(partition.values())\n",
    "\n",
    "# Generate distinct colors for each community\n",
    "num_communities = len(unique_communities)\n",
    "colors = list(mcolors.TABLEAU_COLORS.values())  # Use Tableau colors for variety\n",
    "community_colors = {community_label: colors[i % len(colors)] for i, community_label in enumerate(unique_communities)}\n",
    "\n",
    "# Map community labels to colors\n",
    "node_colors = [community_colors[partition[node]] for node in graph.nodes()]\n",
    "\n",
    "# Draw the graph with community coloring\n",
    "pos = nx.spring_layout(graph, k=0.5, iterations=500)\n",
    "\n",
    "# Create a larger figure\n",
    "plt.figure(figsize=(10, 8))\n",
    "\n",
    "# Draw nodes and edges\n",
    "node_size = 10\n",
    "width = 0.5\n",
    "nx.draw_networkx_nodes(graph, pos, node_color=node_colors, node_size=node_size)\n",
    "nx.draw_networkx_edges(graph, pos, alpha=0.5, width=width)\n",
    "\n",
    "plt.title('Neo4j Graph with Community Detection (Louvain Method)')\n",
    "plt.axis('off')\n",
    "plt.show()\n",
    "\n",
    "# Close the Neo4j connection when done\n",
    "db.close()"
   ]
  },
  {
   "cell_type": "markdown",
   "metadata": {},
   "source": [
    "## Task 2.3: Visualize the Subgraph of the Largest Community\n",
    "This time, we want to extract the subgraph of the largest community in order to visualize it. Please help fill in the TODOs.\n"
   ]
  },
  {
   "cell_type": "code",
   "execution_count": null,
   "metadata": {},
   "outputs": [],
   "source": [
    "# Get the instance of the Neo4jConnection\n",
    "db = neo4j.Neo4jConnection.get_instance()\n",
    "\n",
    "# Load data into NetworkX\n",
    "graph = db.load_data_into_networkx()\n",
    "\n",
    "# Find communities in G using greedy modularity maximization.\n",
    "communities = nx.algorithms.community.louvain_communities(graph)\n",
    "\n",
    "# Identify the largest community\n",
    "# TODO\n",
    "\n",
    "# Extract the subgraph of the largest community\n",
    "largest_subgraph = graph.subgraph(largest_community).copy()\n",
    "\n",
    "# Draw the largest subgraph\n",
    "pos = nx.spring_layout(largest_subgraph, k=0.5, iterations=600)\n",
    "plt.figure(figsize=(10, 8))\n",
    "nx.draw(largest_subgraph, pos, node_size=10, width=0.5, with_labels=False)\n",
    "plt.title('Largest Community Subgraph')\n",
    "plt.show()\n",
    "\n",
    "# Close the Neo4j connection when done\n",
    "db.close()\n"
   ]
  }
 ],
 "metadata": {
  "kernelspec": {
   "display_name": "myenv",
   "language": "python",
   "name": "python3"
  },
  "language_info": {
   "codemirror_mode": {
    "name": "ipython",
    "version": 3
   },
   "file_extension": ".py",
   "mimetype": "text/x-python",
   "name": "python",
   "nbconvert_exporter": "python",
   "pygments_lexer": "ipython3",
   "version": "3.9.17"
  }
 },
 "nbformat": 4,
 "nbformat_minor": 2
}
