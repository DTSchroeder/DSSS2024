{
 "cells": [
  {
   "cell_type": "markdown",
   "metadata": {},
   "source": [
    "# Graph Visualization\n",
    "In the box below, you see the imports, including our Neo4j utility, which is a singleton that includes the necessary functions we implemented in the previous tutorials."
   ]
  },
  {
   "cell_type": "code",
   "execution_count": null,
   "metadata": {},
   "outputs": [],
   "source": [
    "import sys\n",
    "import os\n",
    "import networkx as nx\n",
    "import matplotlib.pyplot as plt\n",
    "import matplotlib.colors as mcolors\n",
    "\n",
    "# Define the directory containing neo4j_utils.py (assuming test.ipynb is in task_1 folder)\n",
    "module_path = os.path.abspath(os.path.join(os.path.dirname(\"__file__\"), '..', 'utils'))\n",
    "\n",
    "# Check if the path is already in sys.path and add it if not\n",
    "if module_path not in sys.path:\n",
    "    print(f\"Adding {module_path} to sys.path\")\n",
    "    sys.path.append(module_path)\n",
    "\n",
    "import neo4j_utils as neo4j\n",
    "\n",
    "# Get the instance of the Neo4jConnection\n",
    "db = neo4j.Neo4jConnection.get_instance()\n",
    "\n",
    "# Verify the connection\n",
    "if db.verify_connection():\n",
    "    print(\"Connection to Neo4j is successful!\")\n",
    "else:\n",
    "    print(\"Connection to Neo4j failed!\")\n",
    "\n",
    "# close the connection\n",
    "db.close()"
   ]
  },
  {
   "cell_type": "markdown",
   "metadata": {},
   "source": [
    "## Simple Visualization\n",
    "This is the most straightforward approach for graph visualization. Here, we perform the visualization for the entire graph. What do you notice?"
   ]
  },
  {
   "cell_type": "code",
   "execution_count": null,
   "metadata": {},
   "outputs": [],
   "source": [
    "# Get the instance of the Neo4jConnection\n",
    "db = neo4j.Neo4jConnection.get_instance()\n",
    "\n",
    "# Load data into NetworkX\n",
    "graph = db.load_data_into_networkx()\n",
    "\n",
    "# Draw the graph (optional)\n",
    "nx.draw(graph, with_labels=True)\n",
    "plt.show()\n",
    "\n",
    "# Close the Neo4j connection when done\n",
    "db.close()"
   ]
  },
  {
   "cell_type": "markdown",
   "metadata": {},
   "source": [
    "## Improved Visualization\n",
    "To improve the layout, we switched to NetworkX's spring layout ([documentation here](https://networkx.org/documentation/stable/reference/generated/networkx.drawing.layout.spring_layout.html)) and adjusted the node size based on degree.\n"
   ]
  },
  {
   "cell_type": "code",
   "execution_count": null,
   "metadata": {},
   "outputs": [],
   "source": [
    "# Get the instance of the Neo4jConnection\n",
    "db = neo4j.Neo4jConnection.get_instance()\n",
    "\n",
    "# Load data into NetworkX\n",
    "graph = db.load_data_into_networkx()\n",
    "\n",
    "# Adjust layout for better visualization\n",
    "pos = nx.spring_layout(graph, k=0.5, iterations=50)  # Adjusting the `k` parameter can help spread out nodes\n",
    "\n",
    "# Draw the graph with improved layout and styling\n",
    "node_sizes = [100 * graph.degree[node] for node in graph.nodes()]\n",
    "edge_weights = [graph[u][v]['weight'] for u, v in graph.edges()]\n",
    "\n",
    "# Draw the graph (optional)\n",
    "nx.draw(graph, pos, node_size=node_sizes, width=edge_weights, with_labels=True, font_size=1)\n",
    "plt.show()\n",
    "\n",
    "# Close the Neo4j connection when done\n",
    "db.close()"
   ]
  },
  {
   "cell_type": "markdown",
   "metadata": {},
   "source": [
    "## Improved Visualization\n",
    "To improve the layout, we switched to NetworkX's spring layout ([documentation here](https://networkx.org/documentation/stable/reference/generated/networkx.drawing.layout.spring_layout.html)), adjusted the node and edge sizes to static values, and increased the number of iterations for the layout algorithm.\n"
   ]
  },
  {
   "cell_type": "code",
   "execution_count": null,
   "metadata": {},
   "outputs": [],
   "source": [
    "# Get the instance of the Neo4jConnection\n",
    "db = neo4j.Neo4jConnection.get_instance()\n",
    "\n",
    "# Load data into NetworkX\n",
    "graph = db.load_data_into_networkx()\n",
    "\n",
    "# Adjust layout parameters\n",
    "pos = nx.spring_layout(graph, k=0.5, iterations=600)\n",
    "\n",
    "# Create a larger figure\n",
    "plt.figure(figsize=(10, 8))\n",
    "\n",
    "# Draw the graph with adjusted parameters\n",
    "nx.draw(graph, pos, node_size=10, width=0.5, with_labels=False)\n",
    "plt.show()\n",
    "\n",
    "# Close the Neo4j connection when done\n",
    "db.close()"
   ]
  }
 ],
 "metadata": {
  "kernelspec": {
   "display_name": "myenv",
   "language": "python",
   "name": "python3"
  },
  "language_info": {
   "codemirror_mode": {
    "name": "ipython",
    "version": 3
   },
   "file_extension": ".py",
   "mimetype": "text/x-python",
   "name": "python",
   "nbconvert_exporter": "python",
   "pygments_lexer": "ipython3",
   "version": "3.9.17"
  }
 },
 "nbformat": 4,
 "nbformat_minor": 2
}
