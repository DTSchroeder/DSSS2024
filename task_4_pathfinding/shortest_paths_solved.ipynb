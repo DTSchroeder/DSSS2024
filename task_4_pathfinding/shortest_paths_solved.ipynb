{
 "cells": [
  {
   "cell_type": "markdown",
   "metadata": {},
   "source": [
    "# Shortest Path\n",
    " NetworkX's shortest paths are documented [here](https://networkx.org/documentation/stable/reference/algorithms/shortest_paths.html). In the box below, you see the imports, including our Neo4j utility, which is a singleton that includes the necessary functions we implemented in the previous tutorials."
   ]
  },
  {
   "cell_type": "code",
   "execution_count": null,
   "metadata": {},
   "outputs": [],
   "source": [
    "import sys\n",
    "import os\n",
    "import networkx as nx\n",
    "import matplotlib.pyplot as plt\n",
    "import matplotlib.colors as mcolors\n",
    "\n",
    "# Define the directory containing neo4j_utils.py (assuming test.ipynb is in task_1 folder)\n",
    "module_path = os.path.abspath(os.path.join(os.path.dirname(\"__file__\"), '..', 'utils'))\n",
    "\n",
    "# Check if the path is already in sys.path and add it if not\n",
    "if module_path not in sys.path:\n",
    "    print(f\"Adding {module_path} to sys.path\")\n",
    "    sys.path.append(module_path)\n",
    "\n",
    "import neo4j_utils as neo4j\n",
    "\n",
    "# Get the instance of the Neo4jConnection\n",
    "db = neo4j.Neo4jConnection.get_instance()\n",
    "\n",
    "# Verify the connection\n",
    "if db.verify_connection():\n",
    "    print(\"Connection to Neo4j is successful!\")\n",
    "else:\n",
    "    print(\"Connection to Neo4j failed!\")\n",
    "\n",
    "# close the connection\n",
    "db.close()"
   ]
  },
  {
   "cell_type": "markdown",
   "metadata": {},
   "source": [
    "# All Pairs Shortest Path in the Largest Community\n"
   ]
  },
  {
   "cell_type": "code",
   "execution_count": null,
   "metadata": {},
   "outputs": [],
   "source": [
    "# Get the instance of Neo4jConnection\n",
    "db = neo4j.Neo4jConnection.get_instance()\n",
    "\n",
    "# Load data into NetworkX\n",
    "graph = db.load_data_into_networkx()\n",
    "\n",
    "# Extract the largest community subgraph\n",
    "largest_community_subgraph = db.subgraph_largest_community()\n",
    "\n",
    "# Compute all pairs shortest path lengths\n",
    "shortest_paths = dict(nx.all_pairs_shortest_path_length(largest_community_subgraph))\n",
    "\n",
    "# Print or process the shortest paths as needed\n",
    "for node, paths in shortest_paths.items():\n",
    "    print(f\"Shortest paths from node {node}:\")\n",
    "    for target, length in paths.items():\n",
    "        print(f\"  to {target}: {length} steps\")\n",
    "\n",
    "# Close the Neo4j connection when done\n",
    "db.close()"
   ]
  },
  {
   "cell_type": "markdown",
   "metadata": {},
   "source": [
    "## Calculate the Diameter (Longest Shortest Path)"
   ]
  },
  {
   "cell_type": "code",
   "execution_count": null,
   "metadata": {},
   "outputs": [],
   "source": [
    "# Get the instance of Neo4jConnection\n",
    "db = neo4j.Neo4jConnection.get_instance()\n",
    "\n",
    "# Load data into NetworkX\n",
    "graph = db.load_data_into_networkx()\n",
    "\n",
    "# Extract the largest community subgraph\n",
    "largest_community_subgraph = db.subgraph_largest_community()\n",
    "\n",
    "# Calculate all pairs shortest path lengths in the largest community subgraph\n",
    "all_pairs_shortest_path_lengths = dict(nx.all_pairs_shortest_path_length(largest_community_subgraph))\n",
    "\n",
    "# Initialize variables to store the longest shortest path and its length\n",
    "longest_shortest_path = None\n",
    "longest_shortest_path_length = 0\n",
    "\n",
    "# Find the longest shortest path\n",
    "for source, target_lengths in all_pairs_shortest_path_lengths.items():\n",
    "    for target, length in target_lengths.items():\n",
    "        if length > longest_shortest_path_length:\n",
    "            longest_shortest_path_length = length\n",
    "            longest_shortest_path = (source, target)\n",
    "\n",
    "# Extract the nodes in the longest shortest path\n",
    "if longest_shortest_path:\n",
    "    source, target = longest_shortest_path\n",
    "    longest_path_nodes = nx.shortest_path(largest_community_subgraph, source=source, target=target)\n",
    "    print(f\"Longest shortest path length: {longest_shortest_path_length}\")\n",
    "    print(f\"Nodes in the longest shortest path: {longest_path_nodes}\")\n",
    "else:\n",
    "    print(\"No paths found in the largest community subgraph\")\n",
    "\n",
    "# Close the Neo4j connection when done\n",
    "db.close()"
   ]
  },
  {
   "cell_type": "markdown",
   "metadata": {},
   "source": [
    "# Shortest Path from A to B\n"
   ]
  },
  {
   "cell_type": "code",
   "execution_count": null,
   "metadata": {},
   "outputs": [],
   "source": [
    "# Get the instance of Neo4jConnection\n",
    "db = neo4j.Neo4jConnection.get_instance()\n",
    "\n",
    "# Load data into NetworkX\n",
    "graph = db.load_data_into_networkx()\n",
    "\n",
    "# Extract the largest community subgraph\n",
    "largest_community_subgraph = db.subgraph_largest_community()\n",
    "\n",
    "# Define the start and end nodes (replace 'A' and 'B' with actual node identifiers)\n",
    "start_node = 'Munda'\n",
    "end_node = 'Gerald-Gower'\n",
    "\n",
    "# Compute the shortest path from A to B\n",
    "try:\n",
    "    shortest_path = nx.shortest_path(largest_community_subgraph, source=start_node, target=end_node)\n",
    "    shortest_path_length = nx.shortest_path_length(largest_community_subgraph, source=start_node, target=end_node)\n",
    "\n",
    "    print(f\"Shortest path from {start_node} to {end_node}: {shortest_path}\")\n",
    "    print(f\"Shortest path length: {shortest_path_length} steps\")\n",
    "except nx.NetworkXNoPath:\n",
    "    print(f\"No path exists between {start_node} and {end_node}\")\n",
    "\n",
    "# Close the Neo4j connection when done\n",
    "db.close()"
   ]
  },
  {
   "cell_type": "markdown",
   "metadata": {},
   "source": [
    "# Task 4.1: What is the Shortest Path Between the Node with the Highest Closeness Centrality and 'Andrew-Estermont'\n",
    "Use what you have learned before to calculate the shortest path between the node with the highest closeness centrality and 'Andrew-Estermont'."
   ]
  },
  {
   "cell_type": "code",
   "execution_count": null,
   "metadata": {},
   "outputs": [],
   "source": [
    "# Get the instance of Neo4jConnection\n",
    "db = neo4j.Neo4jConnection.get_instance()\n",
    "\n",
    "# Load data into NetworkX\n",
    "graph = db.load_data_into_networkx()\n",
    "\n",
    "# Extract the largest community subgraph\n",
    "largest_community_subgraph = db.subgraph_largest_community()\n",
    "\n",
    "# Calculate closeness centrality for all nodes\n",
    "closeness_centralities = nx.closeness_centrality(largest_community_subgraph) # TODO\n",
    "\n",
    "# Find the node with the highest closeness centrality\n",
    "node_highest_closeness = max(closeness_centralities, key=closeness_centralities.get) # TODO\n",
    "print(f\"Node with highest closeness centrality: {node_highest_closeness}\")\n",
    "\n",
    "# Find the shortest path between the node with highest closeness centrality and 'Andrew-Estermont'\n",
    "shortest_path = nx.shortest_path(largest_community_subgraph, source=node_highest_closeness, target='Andrew-Estermont' ) # TODO\n",
    "\n",
    "# print result\n",
    "print(f\"Shortest path between {node_highest_closeness} and 'Andrew-Estermont': {shortest_path}\")"
   ]
  }
 ],
 "metadata": {
  "kernelspec": {
   "display_name": "myenv",
   "language": "python",
   "name": "python3"
  },
  "language_info": {
   "codemirror_mode": {
    "name": "ipython",
    "version": 3
   },
   "file_extension": ".py",
   "mimetype": "text/x-python",
   "name": "python",
   "nbconvert_exporter": "python",
   "pygments_lexer": "ipython3",
   "version": "3.9.17"
  }
 },
 "nbformat": 4,
 "nbformat_minor": 2
}
